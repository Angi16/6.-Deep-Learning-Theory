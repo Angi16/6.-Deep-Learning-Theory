{
 "cells": [
  {
   "cell_type": "markdown",
   "metadata": {},
   "source": [
    "# <font color='Blue'>4.Numerical Computation</font>\n",
    "\n",
    "Contents:\n",
    "\n",
    "* 1 Overflow and underflow\n",
    "* 2 Poor Conditioning\n",
    "* 3 Gradient-Based Optimization\n",
    "\n",
    "## <font color='Blue'>1.Overflow and underflow</font>\n",
    "\n",
    "Problems regarding rounding errors. **Underﬂow** occurs when numbers near zero are rounded to zero. **Overﬂow** occurs when numbers with large magnitude are approximated as $∞ or −∞$.\n",
    "\n",
    "## <font color='Blue'>2.Poor Conditioning</font>\n",
    "\n",
    "Conditioning refers to how rapidly a function changes with respect to small changes in its inputs. Functions that change rapidly when their inputs are perturbed slightly can be problematic for scientific computation because rounding errors in the inputs can result in large changes in the output.\n",
    "\n",
    "## <font color='Blue'>3.Gradient-Based Optimization</font>\n",
    "\n",
    "Optimization refers to the task of either minimizing or maximizing some function $f(x)$ by altering x.\n",
    "\n",
    "The function we want to minimize or maximize is called the **objective function or criterion**. When we are minimizing it, we may also call it the **cost function, loss function , or error function**.\n",
    "\n",
    "Value that minimizes or maximizes a function can be denoted with $*$. For example $x^∗=argminf(x)$\n",
    "\n",
    "**Derivative** of some function $y=f(x)$ is denoted as $f′(x)$ or $\\mathrm{d} y \\mathrm{d} x$. The derivative $f′(x)$ gives the slope of $f(x)$ at the point $x$. In other words, it specifies how to scale a small change in the input in order to obtain the corresponding change in the output: $f(x+ϵ) ≈ f(x) + ϵf′(x)$\n",
    "\n",
    "The derivative is useful for minimizing a function because it tells us how to change $x$ in order to make small improvement in $y$. We can thus reduce $f(x)$ by moving $x$ in small steps with opposite sign of the derivative. This technique is called **gradient descent**\n",
    "\n",
    "When $f′(x)=0$, the derivative provides no information about which direction to move. Points where $f′(x)=0$ are known as **critical points** or **stationary points**. Some critical points are neither maxima nor minima. These are known as **saddle points**.\n",
    "\n",
    "A point that obtains the absolute lowest value of $f(x)$ is a **global minimum**. It is possible for there to be only one global minimum or multiple global minima of the function.\n",
    "\n",
    "We often minimize functions that have multiple inputs: $f:Rn→R$. For the concept of “minimization” to make sense, there must still be only one (scalar) output.\n",
    "\n",
    "For functions with multiple inputs, we must make use of the concept of **partial derivatives**. The partial derivative \n",
    "$\\frac {\\mathrm{∂}}{\\mathrm{∂}x_i} f(x)$ measures how f changes as only variable $x_i$ increases at point x. The gradient generalizes the notion of derivative to the case where the derivative is with respect to a vector: the gradient of f is the vector containing all of the partial derivatives, denoted $∇xf(x)$. Element i of the gradient is the partial derivative of f with respect to $x_i$. In multiple dimensions, critical points are points where every element of the gradient is equal to zero.\n",
    "\n",
    "The **directional derivative** in direction $u$ (a unit vector) is the slope of the function $f$ in direction $u$. In other words, the directional derivative is the derivative of the function $f(x+αu)$ with respect to $α$, evaluated at $α=0$. Using the chain rule, we can see that ∂∂αf(x+αu) evaluates to uT∇xf(x) when α=0.\n",
    "\n",
    "To minimize $f$, we would like to find the direction in which $f$ decreases the fastest. We can do this using the directional derivative:\n",
    "\n",
    "$$\\mathrm{min}_{u,u^Tu=1} u^T ∇_x f(x) =\\mathrm{min}_{u,u^Tu=1}||u||_2 ||∇xf(x)||_2 cosθ$$\n",
    "\n",
    "where $θ$ is the angel between u and the gradient. Substituting in $||u||_2=1$ and ignoring factors that do not depend on $u$, this simplifies to $\\mathrm{min}_u cosθ$. \n",
    "\n",
    "This is minimized when $u$ points in the opposite direction as the gradient. In other words, the gradient points directly uphill, and the negative gradient points directly downhill. We can decrease $f$ by moving in the direction of the negative gradient. This is known as the **method of steepest descent** or **gradient descent**.\n",
    "\n",
    "Steepest descent proposes a new point\n",
    "$x′=x−ϵ∇_xf(x)$\n",
    "\n",
    "where ϵ is the **learning rate**, a positive scalar determining the size of the step. We can set ϵ to a small constant. Or evaluate $f(x′=x−ϵ∇_x f(x))$ for several values of $ϵ$ and choose the one that results in the smallest objective function value. This last strategy is called a line search.\n",
    "\n",
    "Steepest descent converges when every element of the gradient is zero (or, in practice, very close to zero). In some cases, we may be able to avoid running this iterative algorithm, and just jump directly to the critical point by solving the equation $∇_x f(x)=0$ for x.\n",
    "\n",
    "Although gradient descent is limited to optimization in continuous spaces, the general concept of repeatedly making a small move (that is approximately the best small move) towards better configurations can be generalized to discrete spaces. Ascending an objective function of discrete parameters is called **hill climbing**.\n"
   ]
  }
 ],
 "metadata": {
  "kernelspec": {
   "display_name": "Python 3",
   "language": "python",
   "name": "python3"
  },
  "language_info": {
   "codemirror_mode": {
    "name": "ipython",
    "version": 3
   },
   "file_extension": ".py",
   "mimetype": "text/x-python",
   "name": "python",
   "nbconvert_exporter": "python",
   "pygments_lexer": "ipython3",
   "version": "3.6.5rc1"
  }
 },
 "nbformat": 4,
 "nbformat_minor": 2
}
